{
 "cells": [
  {
   "cell_type": "markdown",
   "id": "f48d1e4f-5bf0-4291-9f10-e4fa452dfee6",
   "metadata": {},
   "source": [
    "1. Import openAI dependences (load with conda install openai)"
   ]
  },
  {
   "cell_type": "code",
   "execution_count": 28,
   "id": "6f5e6bba-f9b0-4d27-a0c2-ceede346e2fd",
   "metadata": {
    "scrolled": true
   },
   "outputs": [],
   "source": [
    "\n",
    "#Import openAI dependences (module)\n",
    "import openai"
   ]
  },
  {
   "cell_type": "markdown",
   "id": "6180968b-5de0-4e1d-91e1-bb0607b62ebe",
   "metadata": {},
   "source": [
    "2. Use the API Key from openAI page"
   ]
  },
  {
   "cell_type": "code",
   "execution_count": 29,
   "id": "aaa13f6c-6aee-4ddd-92b7-33dbbf66ea3c",
   "metadata": {},
   "outputs": [],
   "source": [
    "#Add our API Key copied from openAI page\n",
    "openai.api_key = \"\" #Example -> dw-bQyr9128F49VJRNKAnST32lbkFJ2Zv4qEhWo4R0Xh6yrh15"
   ]
  },
  {
   "cell_type": "markdown",
   "id": "718b62d1-eaff-4f63-b974-01e0d6322ba3",
   "metadata": {},
   "source": [
    "2. Use the API Key from openAI page"
   ]
  },
  {
   "cell_type": "markdown",
   "id": "133396b5-0a78-4b9a-a1c0-8c81d7744f9b",
   "metadata": {},
   "source": [
    "3. Make a request"
   ]
  },
  {
   "cell_type": "code",
   "execution_count": 30,
   "id": "f7c1fc76-a9ea-4df9-9324-d83bba8bfc0c",
   "metadata": {
    "scrolled": true
   },
   "outputs": [],
   "source": [
    "#Make the context of our prompt envoirement\n",
    "context = \"Eres un asesor de viajes y turismo que debe dar ideas originales sobre futuros viajes \"\n",
    "\n",
    "#prompt (text/user's question)\n",
    "prompt = \"en el contexto de una persona que habita en la ciudad de buenos aires, casado sin hijos, desea tener hasta 5 opciones apara vacacionar teniendo en cuenta las siguientes condiciones : tiene 10 disponibles de vacaciones , durante la primavera de argentina , tiene un limite de 3 millones de pesos , son un matrimonio osea dos personas, preferentemente en el sur del pais, como ser la patagonia, escenarios de montaña, naturaleza\""
   ]
  },
  {
   "cell_type": "markdown",
   "id": "a42ce140-d99c-492e-ad64-9de2719ea75e",
   "metadata": {},
   "source": [
    "4. Settings"
   ]
  },
  {
   "cell_type": "code",
   "execution_count": 31,
   "id": "1ce51fc0-ce3e-4db1-8ab5-4d9447252af9",
   "metadata": {},
   "outputs": [
    {
     "name": "stdout",
     "output_type": "stream",
     "text": [
      "assistant: ¡Claro! Aquí te dejo cinco opciones originales para que puedas disfrutar de unas vacaciones inolvidables en el sur de Argentina, en la Patagonia, rodeado de hermosos paisajes naturales y montañas:\n",
      "\n",
      "1. **Ruta de los Siete Lagos en auto**: alquila un auto y recorre la famosa Ruta de los Siete Lagos en la provincia de Neuquén y Río Negro. Podrán disfrutar de paisajes impresionantes, lagos de aguas cristalinas y bosques de lengas y coihues. Pueden hacer paradas en San Martín de los Andes, Villa La Angostura y San Carlos de Bariloche.\n",
      "\n",
      "2. **Aventura en El Bolsón**: esta localidad de la Patagonia argentina es conocida por sus artesanos, cervecerías artesanales y su ambiente relajado. Pueden realizar trekking en el Cerro Piltriquitrón, visitar la Feria Regional de El Bolsón y degustar sus delicias gastronómicas.\n",
      "\n",
      "3. **Excursión al Glaciar Perito Moreno**: dedica unos días a visitar este imponente glaciar ubicado en el Parque Nacional Los Glaciares en la provincia de Santa Cruz. Pueden contratar una excursión en barco para ver de cerca el desprendimiento de icebergs o hacer trekking sobre el glaciar.\n",
      "\n",
      "4. **Estancia en la Tierra del Fuego**: vayan en busca de una experiencia única hospedándose en una estancia en la Tierra del Fuego. Disfruten de la tranquilidad, la naturaleza salvaje y las actividades al aire libre como trekking, pesca y avistaje de aves.\n",
      "\n",
      "5. **Aventura en Ushuaia**: considerada la ciudad más austral del mundo, Ushuaia ofrece una combinación perfecta entre naturaleza virgen y comodidades de una ciudad. Realicen excursiones al Parque Nacional Tierra del Fuego, naveguen por el Canal Beagle y visiten el Museo del Presidio.\n",
      "\n",
      "Estas son solo algunas ideas para que puedas disfrutar de un viaje inolvidable en la Patagonia argentina durante la primavera. ¡Espero que te resulten interesantes y puedas planificar un viaje increíble dentro de tu presupuesto y tiempo disponible!\n"
     ]
    }
   ],
   "source": [
    "# Make the request\n",
    "conversation = [\n",
    "    {\"role\": \"system\", \"content\": context},\n",
    "    {\"role\": \"user\", \"content\": prompt}\n",
    "]\n",
    "\n",
    "response = openai.ChatCompletion.create(\n",
    "    model='gpt-3.5-turbo',\n",
    "    messages=conversation,\n",
    "    max_tokens=2000\n",
    ")\n",
    "\n",
    "message = response.choices[0]['message']\n",
    "print(\"{}: {}\".format(message['role'], message['content']))"
   ]
  },
  {
   "cell_type": "markdown",
   "id": "1e57d4c6-d1aa-48fc-80dd-530bfcebab65",
   "metadata": {},
   "source": [
    "5. Storage the response in any variable"
   ]
  },
  {
   "cell_type": "code",
   "execution_count": 32,
   "id": "abb2ce41-0dc8-46f9-8137-aca58604bcbf",
   "metadata": {},
   "outputs": [
    {
     "name": "stdout",
     "output_type": "stream",
     "text": [
      "assistant: ¡Claro! Aquí tienes más detalles sobre la opción 2, una aventura en El Bolsón, en la Patagonia argentina, en las categorías solicitadas:\n",
      "\n",
      "1. **Costos de vuelo y alquiler de autos**:\n",
      "   - **Vuelos**: Los vuelos a Bariloche, la ciudad más cercana a El Bolsón, pueden variar en precio dependiendo de la temporada y la anticipación con la que se compren. En promedio, los vuelos desde Buenos Aires a Bariloche pueden rondar entre los $200-300 USD por persona, ida y vuelta.\n",
      "   - **Alquiler de autos**: El alquiler de autos en Bariloche es una buena opción para trasladarse a El Bolsón y recorrer la zona. El costo diario de alquiler de un auto económico puede ser de aproximadamente $40-50 USD, dependiendo de la empresa y el tipo de auto.\n",
      "\n",
      "2. **Opciones de alojamiento**:\n",
      "   - En El Bolsón encontrarás diversas opciones de alojamiento, desde hostels y cabañas hasta hoteles boutique y posadas. Los precios pueden variar, pero en general, una noche en un hostel puede costar alrededor de $15-30 USD, mientras que un hotel o cabaña más lujosa puede tener un costo de $80-150 USD por noche.\n",
      "\n",
      "3. **Excursiones, paseos y trekking posibles**:\n",
      "   - Puedes realizar diversas excursiones y trekkings en El Bolsón, como la subida al Cerro Piltriquitrón, paseos por el Bosque Tallado, visitas a cascadas como la Cascada Escondida o la Cascada Mallín Ahogado, entre otras.\n",
      "   - También puedes recorrer la Feria Regional de El Bolsón, donde encontrarás productos artesanales, orgánicos y gastronómicos.\n",
      "\n",
      "4. **Opciones de gastronomía para las cenas**:\n",
      "   - En El Bolsón hay una gran variedad de opciones gastronómicas para disfrutar en la cena. Puedes probar platos regionales como cordero patagónico, truchas de la zona, pastas caseras, ahumados y quesos artesanales.\n",
      "   - Algunos restaurantes recomendados son Pura Vida, Jauja, Patagonia Parrilla y El Refugio, donde podrás disfrutar de deliciosos platillos acompañados de cervezas artesanales locales.\n",
      "\n",
      "Espero que estos detalles te sean útiles para planificar tu aventura en El Bolsón. ¡Cualquier otra pregunta o información adicional que necesites, házmela saber!\n"
     ]
    }
   ],
   "source": [
    "#Guardo la primera respuesta para tener todas las opciones disponibles\n",
    "primera_respuesta_opciones = response['choices'][0]['message']['content'].strip()\n",
    "\n",
    "\n",
    "#prompt solicitando detalles de alguna de las opciones \n",
    "prompt = \"Para la opcion 2,  dame detalles en estas categorias : Costos de vuelo y alquiler de autos, Opciones de alojamientos, Excursiones , paseos y trecking posibles , opciones de gastronomia para las cenas\"\n",
    "\n",
    "conversation = [\n",
    "    {\"role\": \"system\", \"content\": primera_respuesta_opciones},\n",
    "    {\"role\": \"user\", \"content\": prompt}\n",
    "]\n",
    "\n",
    "response = openai.ChatCompletion.create(\n",
    "    model='gpt-3.5-turbo',\n",
    "    messages=conversation,\n",
    "    max_tokens=2000\n",
    ")\n",
    "\n",
    "message = response.choices[0]['message']\n",
    "print(\"{}: {}\".format(message['role'], message['content']))"
   ]
  },
  {
   "cell_type": "code",
   "execution_count": null,
   "id": "21b597ed-4d89-4a87-bdaf-c59b8388ede7",
   "metadata": {},
   "outputs": [],
   "source": []
  }
 ],
 "metadata": {
  "kernelspec": {
   "display_name": "Python 3 (ipykernel)",
   "language": "python",
   "name": "python3"
  },
  "language_info": {
   "codemirror_mode": {
    "name": "ipython",
    "version": 3
   },
   "file_extension": ".py",
   "mimetype": "text/x-python",
   "name": "python",
   "nbconvert_exporter": "python",
   "pygments_lexer": "ipython3",
   "version": "3.10.16"
  }
 },
 "nbformat": 4,
 "nbformat_minor": 5
}
